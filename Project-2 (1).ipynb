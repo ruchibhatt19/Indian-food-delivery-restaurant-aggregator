{
 "cells": [
  {
   "cell_type": "markdown",
   "id": "be463514",
   "metadata": {},
   "source": [
    "# 1. Import libraries that you required and Load the data set."
   ]
  },
  {
   "cell_type": "code",
   "execution_count": 1,
   "id": "77aab152",
   "metadata": {
    "scrolled": true
   },
   "outputs": [
    {
     "data": {
      "text/html": [
       "<div>\n",
       "<style scoped>\n",
       "    .dataframe tbody tr th:only-of-type {\n",
       "        vertical-align: middle;\n",
       "    }\n",
       "\n",
       "    .dataframe tbody tr th {\n",
       "        vertical-align: top;\n",
       "    }\n",
       "\n",
       "    .dataframe thead th {\n",
       "        text-align: right;\n",
       "    }\n",
       "</style>\n",
       "<table border=\"1\" class=\"dataframe\">\n",
       "  <thead>\n",
       "    <tr style=\"text-align: right;\">\n",
       "      <th></th>\n",
       "      <th>Unnamed: 0</th>\n",
       "      <th>url</th>\n",
       "      <th>address</th>\n",
       "      <th>name</th>\n",
       "      <th>online_order</th>\n",
       "      <th>book_table</th>\n",
       "      <th>rate</th>\n",
       "      <th>votes</th>\n",
       "      <th>phone</th>\n",
       "      <th>location</th>\n",
       "      <th>rest_type</th>\n",
       "      <th>dish_liked</th>\n",
       "      <th>cuisines</th>\n",
       "      <th>approx_cost(for two people)</th>\n",
       "      <th>reviews_list</th>\n",
       "      <th>menu_item</th>\n",
       "      <th>listed_in(type)</th>\n",
       "      <th>listed_in(city)</th>\n",
       "    </tr>\n",
       "  </thead>\n",
       "  <tbody>\n",
       "    <tr>\n",
       "      <th>0</th>\n",
       "      <td>14221</td>\n",
       "      <td>https://www.zomato.com/bangalore/shree-ranga-v...</td>\n",
       "      <td>366, Hosur Main Road, Attibele, Anekal Taluk, ...</td>\n",
       "      <td>Shree Ranga Vilas</td>\n",
       "      <td>No</td>\n",
       "      <td>No</td>\n",
       "      <td>3.2/5</td>\n",
       "      <td>7</td>\n",
       "      <td>080 29765044</td>\n",
       "      <td>Electronic City</td>\n",
       "      <td>Casual Dining</td>\n",
       "      <td>NaN</td>\n",
       "      <td>North Indian, South Indian, Chinese, Juices</td>\n",
       "      <td>500</td>\n",
       "      <td>[('Rated 3.0', 'RATED\\n  Typical South Indian ...</td>\n",
       "      <td>[]</td>\n",
       "      <td>Dine-out</td>\n",
       "      <td>Electronic City</td>\n",
       "    </tr>\n",
       "    <tr>\n",
       "      <th>1</th>\n",
       "      <td>43422</td>\n",
       "      <td>https://www.zomato.com/bangalore/sphyre-gatewa...</td>\n",
       "      <td>Gateway Hotel, 66, Residency Road, Bangalore</td>\n",
       "      <td>Sphyre - Gateway Hotel</td>\n",
       "      <td>No</td>\n",
       "      <td>No</td>\n",
       "      <td>3.6 /5</td>\n",
       "      <td>45</td>\n",
       "      <td>+91 9886643495\\n+91 9898780004</td>\n",
       "      <td>Residency Road</td>\n",
       "      <td>Lounge</td>\n",
       "      <td>NaN</td>\n",
       "      <td>Finger Food</td>\n",
       "      <td>1,700</td>\n",
       "      <td>[('Rated 1.0', 'RATED\\n  Expected a good night...</td>\n",
       "      <td>[]</td>\n",
       "      <td>Dine-out</td>\n",
       "      <td>MG Road</td>\n",
       "    </tr>\n",
       "    <tr>\n",
       "      <th>2</th>\n",
       "      <td>16032</td>\n",
       "      <td>https://www.zomato.com/bangalore/popular-baker...</td>\n",
       "      <td>19, BDA Complex, HSR, Bangalore</td>\n",
       "      <td>Popular Bakery</td>\n",
       "      <td>No</td>\n",
       "      <td>No</td>\n",
       "      <td>3.7/5</td>\n",
       "      <td>36</td>\n",
       "      <td>+91 8105834605\\r\\n080 25722488</td>\n",
       "      <td>HSR</td>\n",
       "      <td>Dessert Parlor, Bakery</td>\n",
       "      <td>NaN</td>\n",
       "      <td>Desserts, Bakery</td>\n",
       "      <td>600</td>\n",
       "      <td>[('Rated 5.0', \"RATED\\n  This outlet is in HSR...</td>\n",
       "      <td>[]</td>\n",
       "      <td>Delivery</td>\n",
       "      <td>HSR</td>\n",
       "    </tr>\n",
       "    <tr>\n",
       "      <th>3</th>\n",
       "      <td>51635</td>\n",
       "      <td>https://www.zomato.com/bangalore/thai-chinese-...</td>\n",
       "      <td>7, Anurhh Arcade, Hoodi Road, Kodigehalli Road...</td>\n",
       "      <td>Thai &amp; Chinese Fast Food</td>\n",
       "      <td>No</td>\n",
       "      <td>No</td>\n",
       "      <td>3.4 /5</td>\n",
       "      <td>7</td>\n",
       "      <td>+91 9206260085\\n+91 7619416923</td>\n",
       "      <td>KR Puram</td>\n",
       "      <td>Quick Bites</td>\n",
       "      <td>NaN</td>\n",
       "      <td>Chinese, Thai</td>\n",
       "      <td>400</td>\n",
       "      <td>[('Rated 5.0', 'RATED\\n  Its Looking delicious...</td>\n",
       "      <td>[]</td>\n",
       "      <td>Dine-out</td>\n",
       "      <td>Whitefield</td>\n",
       "    </tr>\n",
       "    <tr>\n",
       "      <th>4</th>\n",
       "      <td>23424</td>\n",
       "      <td>https://www.zomato.com/bangalore/grill-on-whee...</td>\n",
       "      <td>Kothanuru Main Road, Puttenahalli Road, Natara...</td>\n",
       "      <td>Grill On Wheels</td>\n",
       "      <td>No</td>\n",
       "      <td>No</td>\n",
       "      <td>NEW</td>\n",
       "      <td>0</td>\n",
       "      <td>+91 9901979901</td>\n",
       "      <td>JP Nagar</td>\n",
       "      <td>Quick Bites</td>\n",
       "      <td>NaN</td>\n",
       "      <td>North Indian, Chinese, BBQ, Arabian, Fast Food</td>\n",
       "      <td>400</td>\n",
       "      <td>[]</td>\n",
       "      <td>[]</td>\n",
       "      <td>Dine-out</td>\n",
       "      <td>JP Nagar</td>\n",
       "    </tr>\n",
       "  </tbody>\n",
       "</table>\n",
       "</div>"
      ],
      "text/plain": [
       "   Unnamed: 0                                                url  \\\n",
       "0       14221  https://www.zomato.com/bangalore/shree-ranga-v...   \n",
       "1       43422  https://www.zomato.com/bangalore/sphyre-gatewa...   \n",
       "2       16032  https://www.zomato.com/bangalore/popular-baker...   \n",
       "3       51635  https://www.zomato.com/bangalore/thai-chinese-...   \n",
       "4       23424  https://www.zomato.com/bangalore/grill-on-whee...   \n",
       "\n",
       "                                             address  \\\n",
       "0  366, Hosur Main Road, Attibele, Anekal Taluk, ...   \n",
       "1       Gateway Hotel, 66, Residency Road, Bangalore   \n",
       "2                    19, BDA Complex, HSR, Bangalore   \n",
       "3  7, Anurhh Arcade, Hoodi Road, Kodigehalli Road...   \n",
       "4  Kothanuru Main Road, Puttenahalli Road, Natara...   \n",
       "\n",
       "                       name online_order book_table    rate  votes  \\\n",
       "0         Shree Ranga Vilas           No         No   3.2/5      7   \n",
       "1    Sphyre - Gateway Hotel           No         No  3.6 /5     45   \n",
       "2            Popular Bakery           No         No   3.7/5     36   \n",
       "3  Thai & Chinese Fast Food           No         No  3.4 /5      7   \n",
       "4           Grill On Wheels           No         No     NEW      0   \n",
       "\n",
       "                            phone         location               rest_type  \\\n",
       "0                    080 29765044  Electronic City           Casual Dining   \n",
       "1  +91 9886643495\\n+91 9898780004   Residency Road                  Lounge   \n",
       "2  +91 8105834605\\r\\n080 25722488              HSR  Dessert Parlor, Bakery   \n",
       "3  +91 9206260085\\n+91 7619416923         KR Puram             Quick Bites   \n",
       "4                  +91 9901979901         JP Nagar             Quick Bites   \n",
       "\n",
       "  dish_liked                                        cuisines  \\\n",
       "0        NaN     North Indian, South Indian, Chinese, Juices   \n",
       "1        NaN                                     Finger Food   \n",
       "2        NaN                                Desserts, Bakery   \n",
       "3        NaN                                   Chinese, Thai   \n",
       "4        NaN  North Indian, Chinese, BBQ, Arabian, Fast Food   \n",
       "\n",
       "  approx_cost(for two people)  \\\n",
       "0                         500   \n",
       "1                       1,700   \n",
       "2                         600   \n",
       "3                         400   \n",
       "4                         400   \n",
       "\n",
       "                                        reviews_list menu_item  \\\n",
       "0  [('Rated 3.0', 'RATED\\n  Typical South Indian ...        []   \n",
       "1  [('Rated 1.0', 'RATED\\n  Expected a good night...        []   \n",
       "2  [('Rated 5.0', \"RATED\\n  This outlet is in HSR...        []   \n",
       "3  [('Rated 5.0', 'RATED\\n  Its Looking delicious...        []   \n",
       "4                                                 []        []   \n",
       "\n",
       "  listed_in(type)  listed_in(city)  \n",
       "0        Dine-out  Electronic City  \n",
       "1        Dine-out          MG Road  \n",
       "2        Delivery              HSR  \n",
       "3        Dine-out       Whitefield  \n",
       "4        Dine-out         JP Nagar  "
      ]
     },
     "execution_count": 1,
     "metadata": {},
     "output_type": "execute_result"
    }
   ],
   "source": [
    "import pandas as pd\n",
    "import numpy as np\n",
    "import seaborn as sns\n",
    "import matplotlib.pyplot as plt\n",
    "import warnings\n",
    "\n",
    "\n",
    "df=pd.read_csv(\"C:\\\\Users\\\\Lokesh\\\\Desktop\\\\python project\\\\Zomoto.csv\")\n",
    "df.head()"
   ]
  },
  {
   "cell_type": "markdown",
   "id": "1b22eb8f",
   "metadata": {},
   "source": [
    "# Cleaning of data"
   ]
  },
  {
   "cell_type": "code",
   "execution_count": 2,
   "id": "206dcfe6",
   "metadata": {},
   "outputs": [
    {
     "name": "stdout",
     "output_type": "stream",
     "text": [
      "(10000, 18)\n",
      "<class 'pandas.core.frame.DataFrame'>\n",
      "RangeIndex: 10000 entries, 0 to 9999\n",
      "Data columns (total 18 columns):\n",
      " #   Column                       Non-Null Count  Dtype \n",
      "---  ------                       --------------  ----- \n",
      " 0   Unnamed: 0                   10000 non-null  int64 \n",
      " 1   url                          10000 non-null  object\n",
      " 2   address                      10000 non-null  object\n",
      " 3   name                         10000 non-null  object\n",
      " 4   online_order                 10000 non-null  object\n",
      " 5   book_table                   10000 non-null  object\n",
      " 6   rate                         8528 non-null   object\n",
      " 7   votes                        10000 non-null  int64 \n",
      " 8   phone                        9764 non-null   object\n",
      " 9   location                     9997 non-null   object\n",
      " 10  rest_type                    9953 non-null   object\n",
      " 11  dish_liked                   4642 non-null   object\n",
      " 12  cuisines                     9995 non-null   object\n",
      " 13  approx_cost(for two people)  9941 non-null   object\n",
      " 14  reviews_list                 10000 non-null  object\n",
      " 15  menu_item                    10000 non-null  object\n",
      " 16  listed_in(type)              10000 non-null  object\n",
      " 17  listed_in(city)              10000 non-null  object\n",
      "dtypes: int64(2), object(16)\n",
      "memory usage: 1.4+ MB\n",
      "None\n"
     ]
    }
   ],
   "source": [
    "\n",
    "print(df.shape)\n",
    "print(df.info())"
   ]
  },
  {
   "cell_type": "code",
   "execution_count": null,
   "id": "bfb0b31a",
   "metadata": {},
   "outputs": [],
   "source": []
  },
  {
   "cell_type": "code",
   "execution_count": 3,
   "id": "e5f681e1",
   "metadata": {},
   "outputs": [
    {
     "name": "stdout",
     "output_type": "stream",
     "text": [
      "<class 'pandas.core.frame.DataFrame'>\n",
      "RangeIndex: 10000 entries, 0 to 9999\n",
      "Data columns (total 18 columns):\n",
      " #   Column                       Non-Null Count  Dtype \n",
      "---  ------                       --------------  ----- \n",
      " 0   Unnamed: 0                   10000 non-null  int64 \n",
      " 1   url                          10000 non-null  object\n",
      " 2   address                      10000 non-null  object\n",
      " 3   name                         10000 non-null  object\n",
      " 4   online_order                 10000 non-null  object\n",
      " 5   book_table                   10000 non-null  object\n",
      " 6   rate                         8528 non-null   object\n",
      " 7   votes                        10000 non-null  int64 \n",
      " 8   phone                        9764 non-null   object\n",
      " 9   location                     9997 non-null   object\n",
      " 10  rest_type                    9953 non-null   object\n",
      " 11  dish_liked                   4642 non-null   object\n",
      " 12  cuisines                     9995 non-null   object\n",
      " 13  approx_cost(for two people)  9941 non-null   object\n",
      " 14  reviews_list                 10000 non-null  object\n",
      " 15  menu_item                    10000 non-null  object\n",
      " 16  listed_in(type)              10000 non-null  object\n",
      " 17  listed_in(city)              10000 non-null  object\n",
      "dtypes: int64(2), object(16)\n",
      "memory usage: 1.4+ MB\n"
     ]
    }
   ],
   "source": [
    "df.info()"
   ]
  },
  {
   "cell_type": "code",
   "execution_count": 4,
   "id": "559b95ca",
   "metadata": {},
   "outputs": [
    {
     "data": {
      "text/plain": [
       "array(['3.2/5', '3.6 /5', '3.7/5', '3.4 /5', 'NEW', '4.2/5', nan,\n",
       "       '3.5 /5', '4.1 /5', '3.4/5', '4.3 /5', '4.5/5', '3.0/5', '3.9/5',\n",
       "       '3.0 /5', '4.0 /5', '4.2 /5', '3.5/5', '2.9 /5', '4.3/5', '4.4 /5',\n",
       "       '3.8/5', '3.6/5', '3.3/5', '3.9 /5', '3.3 /5', '4.7/5', '3.1 /5',\n",
       "       '-', '4.5 /5', '3.2 /5', '3.8 /5', '3.7 /5', '2.5 /5', '4.0/5',\n",
       "       '4.6 /5', '4.1/5', '2.6/5', '3.1/5', '4.4/5', '2.6 /5', '2.7 /5',\n",
       "       '2.9/5', '2.5/5', '2.8/5', '4.6/5', '4.7 /5', '2.8 /5', '4.8 /5',\n",
       "       '4.8/5', '2.7/5', '4.9 /5', '2.2/5', '2.3 /5', '4.9/5', '2.4 /5',\n",
       "       '2.3/5', '2.1 /5', '2.4/5', '2.1/5', '2.2 /5'], dtype=object)"
      ]
     },
     "execution_count": 4,
     "metadata": {},
     "output_type": "execute_result"
    }
   ],
   "source": [
    "df[\"rate\"].unique()"
   ]
  },
  {
   "cell_type": "code",
   "execution_count": 5,
   "id": "6d334a17",
   "metadata": {},
   "outputs": [
    {
     "data": {
      "text/plain": [
       "0    3.2\n",
       "1    3.6\n",
       "2    3.7\n",
       "3    3.4\n",
       "4    NaN\n",
       "Name: rate, dtype: float64"
      ]
     },
     "execution_count": 5,
     "metadata": {},
     "output_type": "execute_result"
    }
   ],
   "source": [
    "#cleaning of rate\n",
    "# function is replacing all NEW or - values with Null so that we can handle them easily also this function will remove the / part to make it a float value\n",
    "def clean_rate(val):\n",
    "    if(val == \"NEW\" or val == \"-\"):\n",
    "        return np.nan\n",
    "    else:\n",
    "        val = str(val).split('/')\n",
    "        val = val[0]\n",
    "        return float(val)\n",
    "    \n",
    "df['rate'] = df[\"rate\"].apply(clean_rate)\n",
    "df['rate'].head()"
   ]
  },
  {
   "cell_type": "code",
   "execution_count": 6,
   "id": "b381c62a",
   "metadata": {},
   "outputs": [
    {
     "data": {
      "text/plain": [
       "1882"
      ]
     },
     "execution_count": 6,
     "metadata": {},
     "output_type": "execute_result"
    }
   ],
   "source": [
    "df['rate'].isnull().sum()"
   ]
  },
  {
   "cell_type": "code",
   "execution_count": 7,
   "id": "f19b40e0",
   "metadata": {},
   "outputs": [
    {
     "data": {
      "text/plain": [
       "0"
      ]
     },
     "execution_count": 7,
     "metadata": {},
     "output_type": "execute_result"
    }
   ],
   "source": [
    "df['rate'].fillna(df['rate'].mean(),inplace = True)\n",
    "df['rate'].isnull().sum()"
   ]
  },
  {
   "cell_type": "code",
   "execution_count": 8,
   "id": "64a0d7e8",
   "metadata": {},
   "outputs": [
    {
     "data": {
      "text/html": [
       "<div>\n",
       "<style scoped>\n",
       "    .dataframe tbody tr th:only-of-type {\n",
       "        vertical-align: middle;\n",
       "    }\n",
       "\n",
       "    .dataframe tbody tr th {\n",
       "        vertical-align: top;\n",
       "    }\n",
       "\n",
       "    .dataframe thead th {\n",
       "        text-align: right;\n",
       "    }\n",
       "</style>\n",
       "<table border=\"1\" class=\"dataframe\">\n",
       "  <thead>\n",
       "    <tr style=\"text-align: right;\">\n",
       "      <th></th>\n",
       "      <th>Unnamed: 0</th>\n",
       "      <th>url</th>\n",
       "      <th>address</th>\n",
       "      <th>name</th>\n",
       "      <th>online_order</th>\n",
       "      <th>book_table</th>\n",
       "      <th>rate</th>\n",
       "      <th>votes</th>\n",
       "      <th>phone</th>\n",
       "      <th>location</th>\n",
       "      <th>rest_type</th>\n",
       "      <th>dish_liked</th>\n",
       "      <th>cuisines</th>\n",
       "      <th>CostFor2</th>\n",
       "      <th>reviews_list</th>\n",
       "      <th>menu_item</th>\n",
       "      <th>Type</th>\n",
       "      <th>City</th>\n",
       "    </tr>\n",
       "  </thead>\n",
       "  <tbody>\n",
       "    <tr>\n",
       "      <th>0</th>\n",
       "      <td>14221</td>\n",
       "      <td>https://www.zomato.com/bangalore/shree-ranga-v...</td>\n",
       "      <td>366, Hosur Main Road, Attibele, Anekal Taluk, ...</td>\n",
       "      <td>Shree Ranga Vilas</td>\n",
       "      <td>No</td>\n",
       "      <td>No</td>\n",
       "      <td>3.200000</td>\n",
       "      <td>7</td>\n",
       "      <td>080 29765044</td>\n",
       "      <td>Electronic City</td>\n",
       "      <td>Casual Dining</td>\n",
       "      <td>NaN</td>\n",
       "      <td>North Indian, South Indian, Chinese, Juices</td>\n",
       "      <td>500</td>\n",
       "      <td>[('Rated 3.0', 'RATED\\n  Typical South Indian ...</td>\n",
       "      <td>[]</td>\n",
       "      <td>Dine-out</td>\n",
       "      <td>Electronic City</td>\n",
       "    </tr>\n",
       "    <tr>\n",
       "      <th>1</th>\n",
       "      <td>43422</td>\n",
       "      <td>https://www.zomato.com/bangalore/sphyre-gatewa...</td>\n",
       "      <td>Gateway Hotel, 66, Residency Road, Bangalore</td>\n",
       "      <td>Sphyre - Gateway Hotel</td>\n",
       "      <td>No</td>\n",
       "      <td>No</td>\n",
       "      <td>3.600000</td>\n",
       "      <td>45</td>\n",
       "      <td>+91 9886643495\\n+91 9898780004</td>\n",
       "      <td>Residency Road</td>\n",
       "      <td>Lounge</td>\n",
       "      <td>NaN</td>\n",
       "      <td>Finger Food</td>\n",
       "      <td>1,700</td>\n",
       "      <td>[('Rated 1.0', 'RATED\\n  Expected a good night...</td>\n",
       "      <td>[]</td>\n",
       "      <td>Dine-out</td>\n",
       "      <td>MG Road</td>\n",
       "    </tr>\n",
       "    <tr>\n",
       "      <th>2</th>\n",
       "      <td>16032</td>\n",
       "      <td>https://www.zomato.com/bangalore/popular-baker...</td>\n",
       "      <td>19, BDA Complex, HSR, Bangalore</td>\n",
       "      <td>Popular Bakery</td>\n",
       "      <td>No</td>\n",
       "      <td>No</td>\n",
       "      <td>3.700000</td>\n",
       "      <td>36</td>\n",
       "      <td>+91 8105834605\\r\\n080 25722488</td>\n",
       "      <td>HSR</td>\n",
       "      <td>Dessert Parlor, Bakery</td>\n",
       "      <td>NaN</td>\n",
       "      <td>Desserts, Bakery</td>\n",
       "      <td>600</td>\n",
       "      <td>[('Rated 5.0', \"RATED\\n  This outlet is in HSR...</td>\n",
       "      <td>[]</td>\n",
       "      <td>Delivery</td>\n",
       "      <td>HSR</td>\n",
       "    </tr>\n",
       "    <tr>\n",
       "      <th>3</th>\n",
       "      <td>51635</td>\n",
       "      <td>https://www.zomato.com/bangalore/thai-chinese-...</td>\n",
       "      <td>7, Anurhh Arcade, Hoodi Road, Kodigehalli Road...</td>\n",
       "      <td>Thai &amp; Chinese Fast Food</td>\n",
       "      <td>No</td>\n",
       "      <td>No</td>\n",
       "      <td>3.400000</td>\n",
       "      <td>7</td>\n",
       "      <td>+91 9206260085\\n+91 7619416923</td>\n",
       "      <td>KR Puram</td>\n",
       "      <td>Quick Bites</td>\n",
       "      <td>NaN</td>\n",
       "      <td>Chinese, Thai</td>\n",
       "      <td>400</td>\n",
       "      <td>[('Rated 5.0', 'RATED\\n  Its Looking delicious...</td>\n",
       "      <td>[]</td>\n",
       "      <td>Dine-out</td>\n",
       "      <td>Whitefield</td>\n",
       "    </tr>\n",
       "    <tr>\n",
       "      <th>4</th>\n",
       "      <td>23424</td>\n",
       "      <td>https://www.zomato.com/bangalore/grill-on-whee...</td>\n",
       "      <td>Kothanuru Main Road, Puttenahalli Road, Natara...</td>\n",
       "      <td>Grill On Wheels</td>\n",
       "      <td>No</td>\n",
       "      <td>No</td>\n",
       "      <td>3.706147</td>\n",
       "      <td>0</td>\n",
       "      <td>+91 9901979901</td>\n",
       "      <td>JP Nagar</td>\n",
       "      <td>Quick Bites</td>\n",
       "      <td>NaN</td>\n",
       "      <td>North Indian, Chinese, BBQ, Arabian, Fast Food</td>\n",
       "      <td>400</td>\n",
       "      <td>[]</td>\n",
       "      <td>[]</td>\n",
       "      <td>Dine-out</td>\n",
       "      <td>JP Nagar</td>\n",
       "    </tr>\n",
       "  </tbody>\n",
       "</table>\n",
       "</div>"
      ],
      "text/plain": [
       "   Unnamed: 0                                                url  \\\n",
       "0       14221  https://www.zomato.com/bangalore/shree-ranga-v...   \n",
       "1       43422  https://www.zomato.com/bangalore/sphyre-gatewa...   \n",
       "2       16032  https://www.zomato.com/bangalore/popular-baker...   \n",
       "3       51635  https://www.zomato.com/bangalore/thai-chinese-...   \n",
       "4       23424  https://www.zomato.com/bangalore/grill-on-whee...   \n",
       "\n",
       "                                             address  \\\n",
       "0  366, Hosur Main Road, Attibele, Anekal Taluk, ...   \n",
       "1       Gateway Hotel, 66, Residency Road, Bangalore   \n",
       "2                    19, BDA Complex, HSR, Bangalore   \n",
       "3  7, Anurhh Arcade, Hoodi Road, Kodigehalli Road...   \n",
       "4  Kothanuru Main Road, Puttenahalli Road, Natara...   \n",
       "\n",
       "                       name online_order book_table      rate  votes  \\\n",
       "0         Shree Ranga Vilas           No         No  3.200000      7   \n",
       "1    Sphyre - Gateway Hotel           No         No  3.600000     45   \n",
       "2            Popular Bakery           No         No  3.700000     36   \n",
       "3  Thai & Chinese Fast Food           No         No  3.400000      7   \n",
       "4           Grill On Wheels           No         No  3.706147      0   \n",
       "\n",
       "                            phone         location               rest_type  \\\n",
       "0                    080 29765044  Electronic City           Casual Dining   \n",
       "1  +91 9886643495\\n+91 9898780004   Residency Road                  Lounge   \n",
       "2  +91 8105834605\\r\\n080 25722488              HSR  Dessert Parlor, Bakery   \n",
       "3  +91 9206260085\\n+91 7619416923         KR Puram             Quick Bites   \n",
       "4                  +91 9901979901         JP Nagar             Quick Bites   \n",
       "\n",
       "  dish_liked                                        cuisines CostFor2  \\\n",
       "0        NaN     North Indian, South Indian, Chinese, Juices      500   \n",
       "1        NaN                                     Finger Food    1,700   \n",
       "2        NaN                                Desserts, Bakery      600   \n",
       "3        NaN                                   Chinese, Thai      400   \n",
       "4        NaN  North Indian, Chinese, BBQ, Arabian, Fast Food      400   \n",
       "\n",
       "                                        reviews_list menu_item      Type  \\\n",
       "0  [('Rated 3.0', 'RATED\\n  Typical South Indian ...        []  Dine-out   \n",
       "1  [('Rated 1.0', 'RATED\\n  Expected a good night...        []  Dine-out   \n",
       "2  [('Rated 5.0', \"RATED\\n  This outlet is in HSR...        []  Delivery   \n",
       "3  [('Rated 5.0', 'RATED\\n  Its Looking delicious...        []  Dine-out   \n",
       "4                                                 []        []  Dine-out   \n",
       "\n",
       "              City  \n",
       "0  Electronic City  \n",
       "1          MG Road  \n",
       "2              HSR  \n",
       "3       Whitefield  \n",
       "4         JP Nagar  "
      ]
     },
     "execution_count": 8,
     "metadata": {},
     "output_type": "execute_result"
    }
   ],
   "source": [
    "df.rename(columns = {'approx_cost(for two people)' : 'CostFor2', 'listed_in(type)' : 'Type', 'listed_in(city)' : 'City'}, inplace = True)\n",
    "df.head()"
   ]
  },
  {
   "cell_type": "code",
   "execution_count": 9,
   "id": "8b48f2d6",
   "metadata": {},
   "outputs": [
    {
     "name": "stdout",
     "output_type": "stream",
     "text": [
      "unique values in Location ['Electronic City' 'Residency Road' 'HSR' 'KR Puram' 'JP Nagar'\n",
      " 'Frazer Town' 'Jayanagar' 'BTM' 'Malleshwaram' 'Marathahalli'\n",
      " 'Kammanahalli' 'Commercial Street' 'Basavanagudi' 'Sarjapur Road'\n",
      " 'Koramangala 1st Block' 'Vasanth Nagar' 'CV Raman Nagar'\n",
      " 'Koramangala 7th Block' 'MG Road' 'Koramangala 4th Block' 'Brigade Road'\n",
      " 'Indiranagar' 'Koramangala 5th Block' 'Kumaraswamy Layout' 'City Market'\n",
      " 'Koramangala 6th Block' 'Hennur' 'Whitefield' 'Ulsoor' 'New BEL Road'\n",
      " 'Bannerghatta Road' 'Richmond Road' 'Bellandur' 'Old Airport Road'\n",
      " 'Koramangala 3rd Block' 'Nagawara' 'Church Street' 'Kalyan Nagar'\n",
      " 'Wilson Garden' 'Varthur Main Road, Whitefield' 'Race Course Road'\n",
      " 'Brookefield' 'Koramangala 8th Block' 'Magadi Road' 'Jeevan Bhima Nagar'\n",
      " 'Cunningham Road' 'St. Marks Road' 'Sanjay Nagar' 'Bommanahalli'\n",
      " 'Shanti Nagar' 'Banashankari' 'HBR Layout' 'Lavelle Road' 'Hosur Road'\n",
      " 'Banaswadi' 'Jalahalli' 'Shivajinagar' 'Yelahanka' 'Rajajinagar'\n",
      " 'Sadashiv Nagar' 'Domlur' 'Old Madras Road' 'Koramangala 2nd Block'\n",
      " 'Koramangala' 'Majestic' 'Infantry Road' 'Basaveshwara Nagar'\n",
      " 'Nagarbhavi' 'Thippasandra' 'Yeshwantpur' 'South Bangalore' 'Ejipura'\n",
      " 'Vijay Nagar' 'ITPL Main Road, Whitefield' 'Sankey Road' 'RT Nagar'\n",
      " 'Sahakara Nagar' 'East Bangalore' 'Langford Town' 'North Bangalore'\n",
      " 'Kaggadasapura' 'West Bangalore' 'Seshadripuram' 'Rammurthy Nagar' nan\n",
      " 'Mysore Road' 'Uttarahalli' 'Hebbal' 'Kanakapura Road' 'Kengeri']\n",
      "unique values in location ['Electronic City' 'MG Road' 'HSR' 'Whitefield' 'JP Nagar' 'Frazer Town'\n",
      " 'BTM' 'Koramangala 7th Block' 'Koramangala 4th Block'\n",
      " 'Koramangala 6th Block' 'Malleshwaram' 'Bellandur' 'Kammanahalli'\n",
      " 'Church Street' 'Jayanagar' 'Sarjapur Road' 'Basavanagudi'\n",
      " 'Koramangala 5th Block' 'Residency Road' 'Lavelle Road'\n",
      " 'Old Airport Road' 'Brigade Road' 'Kalyan Nagar' 'Indiranagar'\n",
      " 'New BEL Road' 'Bannerghatta Road' 'Marathahalli' 'Rajajinagar'\n",
      " 'Banashankari' 'Brookefield']\n"
     ]
    }
   ],
   "source": [
    "print(\"unique values in Location\",df['location'].unique())\n",
    "\n",
    "\n",
    "print(\"unique values in location\",df['City'].unique())"
   ]
  },
  {
   "cell_type": "code",
   "execution_count": 10,
   "id": "60aecf05",
   "metadata": {},
   "outputs": [],
   "source": [
    "#df.groupby(['domain', 'ID']).count()\n",
    "\n",
    "#location and listed in city both are holding almost same data.\n",
    "#lets keep one only\n",
    "\n",
    "df = df.drop(['City'], axis = 1)"
   ]
  },
  {
   "cell_type": "code",
   "execution_count": 11,
   "id": "a1107cc5",
   "metadata": {},
   "outputs": [
    {
     "data": {
      "text/plain": [
       "array(['500', '1,700', '600', '400', '350', '200', '2,600', '300', '700',\n",
       "       '150', '1,400', '1,200', '800', '900', '250', '650', '2,000',\n",
       "       '100', '2,800', '1,000', '450', '750', '950', '1,500', '850',\n",
       "       '550', '1,300', '1,650', '1,100', '1,600', nan, '2,500', '2,300',\n",
       "       '2,100', '2,400', '3,000', '70', '1,800', '4,100', '2,200',\n",
       "       '3,400', '1,900', '1,450', '130', '40', '1,050', '1,350', '180',\n",
       "       '1,250', '120', '3,500', '230', '469', '199', '6,000', '4,000',\n",
       "       '80'], dtype=object)"
      ]
     },
     "execution_count": 11,
     "metadata": {},
     "output_type": "execute_result"
    }
   ],
   "source": [
    "df['CostFor2'].unique()"
   ]
  },
  {
   "cell_type": "code",
   "execution_count": 12,
   "id": "7a5cf65e",
   "metadata": {},
   "outputs": [
    {
     "data": {
      "text/plain": [
       "array([ 500., 1700.,  600.,  400.,  350.,  200., 2600.,  300.,  700.,\n",
       "        150., 1400., 1200.,  800.,  900.,  250.,  650., 2000.,  100.,\n",
       "       2800., 1000.,  450.,  750.,  950., 1500.,  850.,  550., 1300.,\n",
       "       1650., 1100., 1600.,   nan, 2500., 2300., 2100., 2400., 3000.,\n",
       "         70., 1800., 4100., 2200., 3400., 1900., 1450.,  130.,   40.,\n",
       "       1050., 1350.,  180., 1250.,  120., 3500.,  230.,  469.,  199.,\n",
       "       6000., 4000.,   80.])"
      ]
     },
     "execution_count": 12,
     "metadata": {},
     "output_type": "execute_result"
    }
   ],
   "source": [
    "def clean_CostFor2 (value):\n",
    "    value = str(value)\n",
    "    if ',' in value:\n",
    "        value = value.replace(',','')\n",
    "        return float(value)\n",
    "    else:\n",
    "        return float(value)\n",
    "    \n",
    "df['CostFor2'] = df['CostFor2'].apply(clean_CostFor2)\n",
    "df['CostFor2'].unique()"
   ]
  },
  {
   "cell_type": "code",
   "execution_count": 13,
   "id": "1f0f31a3",
   "metadata": {},
   "outputs": [
    {
     "data": {
      "text/plain": [
       "Quick Bites                  3625\n",
       "Casual Dining                2018\n",
       "Cafe                          712\n",
       "Delivery                      499\n",
       "Dessert Parlor                443\n",
       "                             ... \n",
       "Food Court, Beverage Shop       1\n",
       "Bar, Pub                        1\n",
       "Casual Dining, Lounge           1\n",
       "Quick Bites, Meat Shop          1\n",
       "Bakery, Sweet Shop              1\n",
       "Name: rest_type, Length: 82, dtype: int64"
      ]
     },
     "execution_count": 13,
     "metadata": {},
     "output_type": "execute_result"
    }
   ],
   "source": [
    "# cleaning of rest_type.\n",
    "\n",
    "rest_type = df['rest_type'].value_counts(ascending = False)\n",
    "rest_type"
   ]
  },
  {
   "cell_type": "markdown",
   "id": "ce97bbca",
   "metadata": {},
   "source": [
    "as we can see there are values having very less count, we can make cluster of it. eg: Food Court, Beverage Shop 1 Bar, Pub 1 Casual Dining, Lounge 1 Quick Bites, Meat Shop 1 Bakery, Sweet Shop 1 Name: rest_type, Length: 82, dtype: int64"
   ]
  },
  {
   "cell_type": "code",
   "execution_count": 14,
   "id": "81390420",
   "metadata": {},
   "outputs": [
    {
     "data": {
      "text/plain": [
       "Bakery                       228\n",
       "Casual Dining, Bar           205\n",
       "Beverage Shop                150\n",
       "Bar                          134\n",
       "Food Court                   125\n",
       "                            ... \n",
       "Food Court, Beverage Shop      1\n",
       "Bar, Pub                       1\n",
       "Casual Dining, Lounge          1\n",
       "Quick Bites, Meat Shop         1\n",
       "Bakery, Sweet Shop             1\n",
       "Name: rest_type, Length: 76, dtype: int64"
      ]
     },
     "execution_count": 14,
     "metadata": {},
     "output_type": "execute_result"
    }
   ],
   "source": [
    "rest_type_lessthan250 = rest_type[rest_type < 250]\n",
    "rest_type_lessthan250"
   ]
  },
  {
   "cell_type": "code",
   "execution_count": 15,
   "id": "d5dbb074",
   "metadata": {},
   "outputs": [
    {
     "data": {
      "text/plain": [
       "(10000, 17)"
      ]
     },
     "execution_count": 15,
     "metadata": {},
     "output_type": "execute_result"
    }
   ],
   "source": [
    "df.shape"
   ]
  },
  {
   "cell_type": "code",
   "execution_count": 16,
   "id": "4d490082",
   "metadata": {},
   "outputs": [
    {
     "data": {
      "text/plain": [
       "Quick Bites           3625\n",
       "others                2214\n",
       "Casual Dining         2018\n",
       "Cafe                   712\n",
       "Delivery               499\n",
       "Dessert Parlor         443\n",
       "Takeaway, Delivery     442\n",
       "Name: rest_type, dtype: int64"
      ]
     },
     "execution_count": 16,
     "metadata": {},
     "output_type": "execute_result"
    }
   ],
   "source": [
    "def clean_rest_type(value):\n",
    "    if(value in rest_type_lessthan250):\n",
    "        return 'others'\n",
    "    else:\n",
    "        return value\n",
    "    \n",
    "df['rest_type'] = df['rest_type'].apply(clean_rest_type)\n",
    "df['rest_type'].value_counts()"
   ]
  },
  {
   "cell_type": "code",
   "execution_count": 17,
   "id": "baf445e1",
   "metadata": {},
   "outputs": [],
   "source": [
    "# cleaning of location.\n",
    "\n",
    "location = df['location'].value_counts(ascending = False)"
   ]
  },
  {
   "cell_type": "code",
   "execution_count": 18,
   "id": "d8cb3c3f",
   "metadata": {},
   "outputs": [
    {
     "data": {
      "text/plain": [
       "Jeevan Bhima Nagar               46\n",
       "Kumaraswamy Layout               45\n",
       "Nagawara                         42\n",
       "Basaveshwara Nagar               41\n",
       "Bommanahalli                     40\n",
       "Thippasandra                     38\n",
       "Koramangala 3rd Block            36\n",
       "ITPL Main Road, Whitefield       33\n",
       "Hennur                           32\n",
       "Seshadripuram                    31\n",
       "Infantry Road                    29\n",
       "Varthur Main Road, Whitefield    29\n",
       "Majestic                         28\n",
       "HBR Layout                       28\n",
       "Yeshwantpur                      28\n",
       "Race Course Road                 25\n",
       "City Market                      24\n",
       "Sanjay Nagar                     22\n",
       "South Bangalore                  19\n",
       "Koramangala 2nd Block            19\n",
       "Hosur Road                       18\n",
       "RT Nagar                         15\n",
       "Sadashiv Nagar                   13\n",
       "Vijay Nagar                      12\n",
       "Kaggadasapura                    11\n",
       "Koramangala                      10\n",
       "Langford Town                     9\n",
       "CV Raman Nagar                    9\n",
       "Jalahalli                         8\n",
       "Sahakara Nagar                    7\n",
       "Magadi Road                       7\n",
       "KR Puram                          7\n",
       "East Bangalore                    6\n",
       "North Bangalore                   5\n",
       "Kanakapura Road                   4\n",
       "Rammurthy Nagar                   4\n",
       "Mysore Road                       4\n",
       "Sankey Road                       3\n",
       "Old Madras Road                   3\n",
       "Uttarahalli                       2\n",
       "Hebbal                            2\n",
       "Nagarbhavi                        1\n",
       "West Bangalore                    1\n",
       "Yelahanka                         1\n",
       "Kengeri                           1\n",
       "Name: location, dtype: int64"
      ]
     },
     "execution_count": 18,
     "metadata": {},
     "output_type": "execute_result"
    }
   ],
   "source": [
    "location_lessthan50 = location[location < 50]\n",
    "location_lessthan50"
   ]
  },
  {
   "cell_type": "code",
   "execution_count": 19,
   "id": "a4d660bc",
   "metadata": {},
   "outputs": [
    {
     "data": {
      "text/plain": [
       "BTM                      963\n",
       "others                   798\n",
       "Koramangala 5th Block    494\n",
       "HSR                      483\n",
       "JP Nagar                 431\n",
       "Indiranagar              408\n",
       "Jayanagar                379\n",
       "Whitefield               377\n",
       "Marathahalli             362\n",
       "Bannerghatta Road        330\n",
       "Electronic City          270\n",
       "Koramangala 1st Block    259\n",
       "Bellandur                249\n",
       "Brigade Road             236\n",
       "Koramangala 6th Block    223\n",
       "Sarjapur Road            216\n",
       "Koramangala 7th Block    213\n",
       "Koramangala 4th Block    209\n",
       "MG Road                  196\n",
       "Ulsoor                   174\n",
       "Banashankari             169\n",
       "Kalyan Nagar             163\n",
       "Malleshwaram             159\n",
       "Richmond Road            149\n",
       "Frazer Town              142\n",
       "Residency Road           133\n",
       "Brookefield              129\n",
       "Banaswadi                128\n",
       "Kammanahalli             124\n",
       "New BEL Road             120\n",
       "Church Street            116\n",
       "Basavanagudi             115\n",
       "Rajajinagar              109\n",
       "Shivajinagar              98\n",
       "Ejipura                   97\n",
       "Cunningham Road           91\n",
       "Old Airport Road          91\n",
       "Domlur                    91\n",
       "Lavelle Road              86\n",
       "Shanti Nagar              85\n",
       "Commercial Street         77\n",
       "St. Marks Road            73\n",
       "Koramangala 8th Block     67\n",
       "Vasanth Nagar             59\n",
       "Wilson Garden             56\n",
       "Name: location, dtype: int64"
      ]
     },
     "execution_count": 19,
     "metadata": {},
     "output_type": "execute_result"
    }
   ],
   "source": [
    "def clean_location(value):\n",
    "    if(value in location_lessthan50):\n",
    "        return 'others'\n",
    "    else:\n",
    "        return value\n",
    "    \n",
    "df['location'] = df['location'].apply(clean_location)\n",
    "df['location'].value_counts()"
   ]
  },
  {
   "cell_type": "code",
   "execution_count": 20,
   "id": "9e538b5c",
   "metadata": {},
   "outputs": [
    {
     "data": {
      "text/plain": [
       "North Indian                     522\n",
       "North Indian, Chinese            451\n",
       "South Indian                     363\n",
       "Bakery, Desserts                 199\n",
       "Biryani                          159\n",
       "                                ... \n",
       "Juices, Beverages, Salad           1\n",
       "Modern Indian, North Indian        1\n",
       "Bakery, Juices, Fast Food          1\n",
       "Arabian, BBQ, Rolls, Lebanese      1\n",
       "Chinese, Street Food, Rolls        1\n",
       "Name: cuisines, Length: 1747, dtype: int64"
      ]
     },
     "execution_count": 20,
     "metadata": {},
     "output_type": "execute_result"
    }
   ],
   "source": [
    "# cleaning of cuisines.\n",
    "\n",
    "cuisines = df['cuisines'].value_counts()\n",
    "cuisines"
   ]
  },
  {
   "cell_type": "code",
   "execution_count": 21,
   "id": "d9fa0314",
   "metadata": {},
   "outputs": [
    {
     "data": {
      "text/plain": [
       "North Indian, Rajasthani                        9\n",
       "North Indian, South Indian, Biryani             9\n",
       "Continental, American                           9\n",
       "North Indian, Mughlai, South Indian, Chinese    9\n",
       "Beverages, Desserts, Ice Cream                  9\n",
       "                                               ..\n",
       "Juices, Beverages, Salad                        1\n",
       "Modern Indian, North Indian                     1\n",
       "Bakery, Juices, Fast Food                       1\n",
       "Arabian, BBQ, Rolls, Lebanese                   1\n",
       "Chinese, Street Food, Rolls                     1\n",
       "Name: cuisines, Length: 1590, dtype: int64"
      ]
     },
     "execution_count": 21,
     "metadata": {},
     "output_type": "execute_result"
    }
   ],
   "source": [
    "cuisines_lessthan10 = cuisines[cuisines < 10]\n",
    "cuisines_lessthan10"
   ]
  },
  {
   "cell_type": "code",
   "execution_count": 22,
   "id": "a0c0261d",
   "metadata": {},
   "outputs": [
    {
     "data": {
      "text/plain": [
       "others                                          3923\n",
       "North Indian                                     522\n",
       "North Indian, Chinese                            451\n",
       "South Indian                                     363\n",
       "Bakery, Desserts                                 199\n",
       "                                                ... \n",
       "North Indian, South Indian, Chinese, Biryani      10\n",
       "Mexican, Italian                                  10\n",
       "Cafe, Continental, Beverages                      10\n",
       "Continental, Chinese, North Indian                10\n",
       "Kerala, Seafood                                   10\n",
       "Name: cuisines, Length: 158, dtype: int64"
      ]
     },
     "execution_count": 22,
     "metadata": {},
     "output_type": "execute_result"
    }
   ],
   "source": [
    "def clean_cuisines(value):\n",
    "    if(value in cuisines_lessthan10):\n",
    "        return 'others'\n",
    "    else:\n",
    "        return value\n",
    "    \n",
    "df['cuisines'] = df['cuisines'].apply(clean_cuisines)\n",
    "df['cuisines'].value_counts()"
   ]
  },
  {
   "cell_type": "code",
   "execution_count": 23,
   "id": "cfac2090",
   "metadata": {},
   "outputs": [],
   "source": [
    "df.rename(columns = {\"Unnamed: 0\":'ID'}, inplace = True)"
   ]
  },
  {
   "cell_type": "code",
   "execution_count": 24,
   "id": "516c63db",
   "metadata": {},
   "outputs": [
    {
     "data": {
      "text/plain": [
       "(9091, 17)"
      ]
     },
     "execution_count": 24,
     "metadata": {},
     "output_type": "execute_result"
    }
   ],
   "source": [
    "df.drop_duplicates(inplace=True)\n",
    "df.shape\n"
   ]
  },
  {
   "cell_type": "code",
   "execution_count": 25,
   "id": "508f7620",
   "metadata": {},
   "outputs": [
    {
     "name": "stdout",
     "output_type": "stream",
     "text": [
      "<class 'pandas.core.frame.DataFrame'>\n",
      "Int64Index: 9091 entries, 0 to 9999\n",
      "Data columns (total 16 columns):\n",
      " #   Column        Non-Null Count  Dtype  \n",
      "---  ------        --------------  -----  \n",
      " 0   ID            9091 non-null   int64  \n",
      " 1   url           9091 non-null   object \n",
      " 2   address       9091 non-null   object \n",
      " 3   name          9091 non-null   object \n",
      " 4   online_order  9091 non-null   object \n",
      " 5   book_table    9091 non-null   object \n",
      " 6   rate          9091 non-null   float64\n",
      " 7   votes         9091 non-null   int64  \n",
      " 8   phone         8881 non-null   object \n",
      " 9   location      9088 non-null   object \n",
      " 10  rest_type     9047 non-null   object \n",
      " 11  cuisines      9086 non-null   object \n",
      " 12  CostFor2      9037 non-null   float64\n",
      " 13  reviews_list  9091 non-null   object \n",
      " 14  menu_item     9091 non-null   object \n",
      " 15  Type          9091 non-null   object \n",
      "dtypes: float64(2), int64(2), object(12)\n",
      "memory usage: 1.2+ MB\n"
     ]
    }
   ],
   "source": [
    "df.drop(['dish_liked'], axis = 1, inplace=True)\n",
    "df.info()"
   ]
  },
  {
   "cell_type": "code",
   "execution_count": 26,
   "id": "e1dd67b3",
   "metadata": {},
   "outputs": [
    {
     "name": "stdout",
     "output_type": "stream",
     "text": [
      "<class 'pandas.core.frame.DataFrame'>\n",
      "Int64Index: 8839 entries, 0 to 9999\n",
      "Data columns (total 16 columns):\n",
      " #   Column        Non-Null Count  Dtype  \n",
      "---  ------        --------------  -----  \n",
      " 0   ID            8839 non-null   int64  \n",
      " 1   url           8839 non-null   object \n",
      " 2   address       8839 non-null   object \n",
      " 3   name          8839 non-null   object \n",
      " 4   online_order  8839 non-null   object \n",
      " 5   book_table    8839 non-null   object \n",
      " 6   rate          8839 non-null   float64\n",
      " 7   votes         8839 non-null   int64  \n",
      " 8   phone         8839 non-null   object \n",
      " 9   location      8839 non-null   object \n",
      " 10  rest_type     8839 non-null   object \n",
      " 11  cuisines      8839 non-null   object \n",
      " 12  CostFor2      8839 non-null   float64\n",
      " 13  reviews_list  8839 non-null   object \n",
      " 14  menu_item     8839 non-null   object \n",
      " 15  Type          8839 non-null   object \n",
      "dtypes: float64(2), int64(2), object(12)\n",
      "memory usage: 1.1+ MB\n"
     ]
    }
   ],
   "source": [
    "df.dropna(inplace=True)\n",
    "df.info()"
   ]
  },
  {
   "cell_type": "code",
   "execution_count": null,
   "id": "ce9882cc",
   "metadata": {},
   "outputs": [],
   "source": []
  },
  {
   "cell_type": "markdown",
   "id": "14168d33",
   "metadata": {},
   "source": [
    "# 2.\tWhich are the top restaurant chains based on the distribution(frequency) in Bangaluru?\n"
   ]
  },
  {
   "cell_type": "code",
   "execution_count": 27,
   "id": "e3ddb30d",
   "metadata": {},
   "outputs": [
    {
     "data": {
      "text/plain": [
       "McDonald's                16\n",
       "Baskin Robbins            16\n",
       "Cafe Coffee Day           15\n",
       "Onesta                    15\n",
       "Keventers                 15\n",
       "KFC                       14\n",
       "Petoo                     14\n",
       "The Chocolate Heaven      14\n",
       "Sweet Truth               13\n",
       "Corner House Ice Cream    13\n",
       "Name: name, dtype: int64"
      ]
     },
     "execution_count": 27,
     "metadata": {},
     "output_type": "execute_result"
    }
   ],
   "source": [
    "top10_frequency=df['name'].value_counts().head(10)\n",
    "top10_frequency"
   ]
  },
  {
   "cell_type": "code",
   "execution_count": 28,
   "id": "683ac2ad",
   "metadata": {},
   "outputs": [
    {
     "data": {
      "image/png": "[encoded data removed]",
      "text/plain": [
       "<Figure size 864x216 with 1 Axes>"
      ]
     },
     "metadata": {
      "needs_background": "light"
     },
     "output_type": "display_data"
    }
   ],
   "source": [
    "plt.figure(figsize = (12,3))\n",
    "ax= df.name.value_counts().head(10).plot(kind='bar')\n",
    "plt.title('Top 10 restaurant chains based on the distribution(frequency) in Bangaluru', weight='bold')\n",
    "plt.xlabel('Name of the restauraunt chain')\n",
    "plt.ylabel('Frequency')\n",
    "plt.show()\n",
    "warnings.filterwarnings(\"ignore\")"
   ]
  },
  {
   "cell_type": "code",
   "execution_count": null,
   "id": "4d31a734",
   "metadata": {},
   "outputs": [],
   "source": []
  },
  {
   "cell_type": "markdown",
   "id": "39ed77ec",
   "metadata": {},
   "source": [
    "# 3.\tHow many restaurants do not accept online orders?"
   ]
  },
  {
   "cell_type": "code",
   "execution_count": 29,
   "id": "442c29d3",
   "metadata": {},
   "outputs": [
    {
     "name": "stdout",
     "output_type": "stream",
     "text": [
      "Number of restaurants who do not accept online orders :  3499\n"
     ]
    }
   ],
   "source": [
    "oo=df['online_order'].value_counts()['No']\n",
    "print(\"Number of restaurants who do not accept online orders : \",oo)"
   ]
  },
  {
   "cell_type": "code",
   "execution_count": 30,
   "id": "997e8da5",
   "metadata": {},
   "outputs": [
    {
     "data": {
      "image/png": "[encoded data removed]",
      "text/plain": [
       "<Figure size 432x432 with 1 Axes>"
      ]
     },
     "metadata": {
      "needs_background": "light"
     },
     "output_type": "display_data"
    }
   ],
   "source": [
    "plt.figure(figsize = (6,6))\n",
    "\n",
    "sns.countplot(df['online_order'], palette = 'inferno').set(title='Restaurants Accepts/Does not accepts online orders ')\n",
    "warnings.filterwarnings(\"ignore\")\n",
    "plt.show()"
   ]
  },
  {
   "cell_type": "code",
   "execution_count": null,
   "id": "032bdf7c",
   "metadata": {},
   "outputs": [],
   "source": []
  },
  {
   "cell_type": "markdown",
   "id": "5a8b464e",
   "metadata": {},
   "source": [
    "# 4.\tWhat is the ratio b/w restaurants that provide and do not provide table booking?\n"
   ]
  },
  {
   "cell_type": "code",
   "execution_count": 31,
   "id": "cd440374",
   "metadata": {
    "scrolled": true
   },
   "outputs": [
    {
     "data": {
      "text/plain": [
       "No     7720\n",
       "Yes    1119\n",
       "Name: book_table, dtype: int64"
      ]
     },
     "execution_count": 31,
     "metadata": {},
     "output_type": "execute_result"
    }
   ],
   "source": [
    "df.book_table.value_counts()"
   ]
  },
  {
   "cell_type": "code",
   "execution_count": 32,
   "id": "fc2cdb30",
   "metadata": {},
   "outputs": [],
   "source": [
    "def hcf(x, y):\n",
    "    if x > y:\n",
    "        smaller = y\n",
    "    else:\n",
    "        smaller = x\n",
    "    for i in range(1, smaller+1):\n",
    "        if((x % i == 0) and (y % i == 0)):\n",
    "            hcf = i \n",
    "    return hcf\n",
    "  \n",
    "num1 = df.book_table.value_counts()[0]\n",
    "num2 = df.book_table.value_counts()[1]\n",
    " \n",
    "h=hcf(num1,num2)"
   ]
  },
  {
   "cell_type": "code",
   "execution_count": 33,
   "id": "8a3b6df6",
   "metadata": {},
   "outputs": [
    {
     "name": "stdout",
     "output_type": "stream",
     "text": [
      "Ratio between restaurants that provide and do not provide table booking \n",
      " 1119.0 : 7720.0\n"
     ]
    }
   ],
   "source": [
    "print(\"Ratio between restaurants that provide and do not provide table booking\", \"\\n\",num2/h,\":\",num1/h)"
   ]
  },
  {
   "cell_type": "code",
   "execution_count": 34,
   "id": "3f37ce66",
   "metadata": {},
   "outputs": [
    {
     "data": {
      "image/png": "[encoded data removed]",
      "text/plain": [
       "<Figure size 432x432 with 1 Axes>"
      ]
     },
     "metadata": {
      "needs_background": "light"
     },
     "output_type": "display_data"
    }
   ],
   "source": [
    "plt.figure(figsize = (6,6))\n",
    "sns.countplot(df['book_table'], palette = 'hls').set(title='Table Booking Facility')\n",
    "plt.show()\n"
   ]
  },
  {
   "cell_type": "code",
   "execution_count": null,
   "id": "3f012521",
   "metadata": {},
   "outputs": [],
   "source": []
  },
  {
   "cell_type": "markdown",
   "id": "85ab0463",
   "metadata": {},
   "source": [
    "# 5.\tUse a boxplot on the rating column. Use User Defined Function or Lambda function or Apply function to extract the data that comes before /. Kindly exclude /."
   ]
  },
  {
   "cell_type": "markdown",
   "id": "eb1ceecc",
   "metadata": {},
   "source": [
    "### / part was removed while data cleanup process"
   ]
  },
  {
   "cell_type": "code",
   "execution_count": 35,
   "id": "836dae1a",
   "metadata": {},
   "outputs": [
    {
     "data": {
      "image/png": "[encoded data removed]",
      "text/plain": [
       "<Figure size 432x432 with 1 Axes>"
      ]
     },
     "metadata": {
      "needs_background": "light"
     },
     "output_type": "display_data"
    }
   ],
   "source": [
    "plt.figure(figsize = (6,6))\n",
    "ax= df.rate.plot(kind='box').set(title='Restaurants Ratings')\n",
    "plt.show()"
   ]
  },
  {
   "cell_type": "code",
   "execution_count": null,
   "id": "57870708",
   "metadata": {},
   "outputs": [],
   "source": []
  },
  {
   "cell_type": "markdown",
   "id": "38bd52ea",
   "metadata": {},
   "source": [
    "# 6.\tOnline and Offline orders restaurants percentage."
   ]
  },
  {
   "cell_type": "code",
   "execution_count": 37,
   "id": "511d970e",
   "metadata": {},
   "outputs": [
    {
     "data": {
      "image/png": "[encoded data removed]",
      "text/plain": [
       "<Figure size 432x288 with 1 Axes>"
      ]
     },
     "metadata": {},
     "output_type": "display_data"
    }
   ],
   "source": [
    "#plt.figure(figsize = (6,6))\n",
    "#sns.countplot(df['online_order'], palette = 'inferno')\n",
    "#plt.show()\n",
    "colors = sns.color_palette('pastel')[0:5]\n",
    "labels = ['Accept Online Orders', 'Does not accept Online Orders']\n",
    "plt.title('Percentage of Online Order Facility', weight='bold')\n",
    "plt.pie(df['online_order'].value_counts(),labels = labels, colors = colors, autopct='%.0f%%')\n",
    "plt.show()"
   ]
  },
  {
   "cell_type": "code",
   "execution_count": null,
   "id": "6b21d5b8",
   "metadata": {},
   "outputs": [],
   "source": []
  },
  {
   "cell_type": "markdown",
   "id": "c5d211a6",
   "metadata": {},
   "source": [
    "# 7.Plot the scatter plot using the Cost vs rating variable with respect to online order. Use apply the function Or other function to remove the “,”."
   ]
  },
  {
   "cell_type": "markdown",
   "id": "3d932a22",
   "metadata": {},
   "source": [
    "###### / removed and nan value filled with mean values for ratings in data cleaning.\n",
    "###### , removed in Cost in data cleaning."
   ]
  },
  {
   "cell_type": "code",
   "execution_count": 37,
   "id": "b83a61c2",
   "metadata": {
    "scrolled": false
   },
   "outputs": [
    {
     "data": {
      "image/png": "[encoded data removed]",
      "text/plain": [
       "<Figure size 1440x360 with 1 Axes>"
      ]
     },
     "metadata": {},
     "output_type": "display_data"
    }
   ],
   "source": [
    "sns.set(rc={\"figure.figsize\":(20, 5)})\n",
    "plt.ylabel('Cost', color='grey', size=20)\n",
    "plt.xlabel('Ratings', color='grey', size=20)\n",
    "\n",
    "sns.set_style(\"white\")\n",
    "sns.scatterplot(x=df[\"rate\"], y=df[\"CostFor2\"], legend = \"full\")\n",
    "plt.show()"
   ]
  },
  {
   "cell_type": "code",
   "execution_count": null,
   "id": "d267a056",
   "metadata": {},
   "outputs": [],
   "source": []
  },
  {
   "cell_type": "markdown",
   "id": "978cbe4c",
   "metadata": {},
   "source": [
    "# 8. Find the distribution of the votes and Approx_cost using a user-defined function and for a loop."
   ]
  },
  {
   "cell_type": "code",
   "execution_count": 38,
   "id": "fae3881e",
   "metadata": {},
   "outputs": [],
   "source": [
    "#### another approach but using code from data cleaning.\n",
    "#### def get_numeric_cost_for(cost):\n",
    "####    numeric_cost = []\n",
    "####    for c in cost:\n",
    "####    numeric_cost.append(float(str(c).replace(\",\",\"\")))\n",
    "####    return numeric_cost"
   ]
  },
  {
   "cell_type": "code",
   "execution_count": 47,
   "id": "f94c0e3c",
   "metadata": {},
   "outputs": [
    {
     "data": {
      "text/html": [
       "<div>\n",
       "<style scoped>\n",
       "    .dataframe tbody tr th:only-of-type {\n",
       "        vertical-align: middle;\n",
       "    }\n",
       "\n",
       "    .dataframe tbody tr th {\n",
       "        vertical-align: top;\n",
       "    }\n",
       "\n",
       "    .dataframe thead th {\n",
       "        text-align: right;\n",
       "    }\n",
       "</style>\n",
       "<table border=\"1\" class=\"dataframe\">\n",
       "  <thead>\n",
       "    <tr style=\"text-align: right;\">\n",
       "      <th></th>\n",
       "      <th>ID</th>\n",
       "      <th>url</th>\n",
       "      <th>address</th>\n",
       "      <th>name</th>\n",
       "      <th>online_order</th>\n",
       "      <th>book_table</th>\n",
       "      <th>rate</th>\n",
       "      <th>votes</th>\n",
       "      <th>phone</th>\n",
       "      <th>location</th>\n",
       "      <th>rest_type</th>\n",
       "      <th>cuisines</th>\n",
       "      <th>CostFor2</th>\n",
       "      <th>reviews_list</th>\n",
       "      <th>menu_item</th>\n",
       "      <th>Type</th>\n",
       "    </tr>\n",
       "  </thead>\n",
       "  <tbody>\n",
       "    <tr>\n",
       "      <th>2703</th>\n",
       "      <td>19268</td>\n",
       "      <td>https://www.zomato.com/bangalore/toit-indirana...</td>\n",
       "      <td>298, Namma Metro Pillar 62, 100 Feet Road, Ind...</td>\n",
       "      <td>Toit</td>\n",
       "      <td>No</td>\n",
       "      <td>No</td>\n",
       "      <td>4.700000</td>\n",
       "      <td>14956</td>\n",
       "      <td>+91 9019713388</td>\n",
       "      <td>Indiranagar</td>\n",
       "      <td>others</td>\n",
       "      <td>others</td>\n",
       "      <td>1500.0</td>\n",
       "      <td>[('Rated 4.0', \"RATED\\n  The crowd keeps flowi...</td>\n",
       "      <td>[]</td>\n",
       "      <td>Drinks &amp; nightlife</td>\n",
       "    </tr>\n",
       "    <tr>\n",
       "      <th>4032</th>\n",
       "      <td>27806</td>\n",
       "      <td>https://www.zomato.com/bangalore/truffles-kora...</td>\n",
       "      <td>28, 4th 'B' Cross, Koramangala 5th Block, Bang...</td>\n",
       "      <td>Truffles</td>\n",
       "      <td>No</td>\n",
       "      <td>No</td>\n",
       "      <td>4.700000</td>\n",
       "      <td>14694</td>\n",
       "      <td>080 49652818</td>\n",
       "      <td>Koramangala 5th Block</td>\n",
       "      <td>others</td>\n",
       "      <td>Cafe, American, Burger, Steak</td>\n",
       "      <td>900.0</td>\n",
       "      <td>[('Rated 4.0', 'RATED\\n  Package: 4/5\\nFood: 4...</td>\n",
       "      <td>[]</td>\n",
       "      <td>Delivery</td>\n",
       "    </tr>\n",
       "    <tr>\n",
       "      <th>6685</th>\n",
       "      <td>26549</td>\n",
       "      <td>https://www.zomato.com/bangalore/truffles-kora...</td>\n",
       "      <td>28, 4th 'B' Cross, Koramangala 5th Block, Bang...</td>\n",
       "      <td>Truffles</td>\n",
       "      <td>No</td>\n",
       "      <td>No</td>\n",
       "      <td>4.700000</td>\n",
       "      <td>14690</td>\n",
       "      <td>080 49652818</td>\n",
       "      <td>Koramangala 5th Block</td>\n",
       "      <td>others</td>\n",
       "      <td>Cafe, American, Burger, Steak</td>\n",
       "      <td>900.0</td>\n",
       "      <td>[('Rated 4.0', 'RATED\\n  Package: 4/5\\nFood: 4...</td>\n",
       "      <td>[]</td>\n",
       "      <td>Cafes</td>\n",
       "    </tr>\n",
       "    <tr>\n",
       "      <th>2312</th>\n",
       "      <td>9807</td>\n",
       "      <td>https://www.zomato.com/bangalore/truffles-kora...</td>\n",
       "      <td>28, 4th 'B' Cross, Koramangala 5th Block, Bang...</td>\n",
       "      <td>Truffles</td>\n",
       "      <td>No</td>\n",
       "      <td>No</td>\n",
       "      <td>4.700000</td>\n",
       "      <td>14654</td>\n",
       "      <td>080 41466565\\r\\n080 41536565</td>\n",
       "      <td>Koramangala 5th Block</td>\n",
       "      <td>others</td>\n",
       "      <td>Cafe, American, Burger, Steak</td>\n",
       "      <td>900.0</td>\n",
       "      <td>[('Rated 5.0', 'RATED\\n  Menu is extensive and...</td>\n",
       "      <td>[]</td>\n",
       "      <td>Delivery</td>\n",
       "    </tr>\n",
       "    <tr>\n",
       "      <th>7749</th>\n",
       "      <td>26488</td>\n",
       "      <td>https://www.zomato.com/bangalore/the-black-pea...</td>\n",
       "      <td>105, 1st A Cross Road, Jyothi Nivas College Ro...</td>\n",
       "      <td>The Black Pearl</td>\n",
       "      <td>No</td>\n",
       "      <td>Yes</td>\n",
       "      <td>4.700000</td>\n",
       "      <td>10471</td>\n",
       "      <td>080 49652452</td>\n",
       "      <td>Koramangala 5th Block</td>\n",
       "      <td>others</td>\n",
       "      <td>others</td>\n",
       "      <td>1400.0</td>\n",
       "      <td>[('Rated 4.0', \"RATED\\n  Everything was fine h...</td>\n",
       "      <td>[]</td>\n",
       "      <td>Buffet</td>\n",
       "    </tr>\n",
       "    <tr>\n",
       "      <th>...</th>\n",
       "      <td>...</td>\n",
       "      <td>...</td>\n",
       "      <td>...</td>\n",
       "      <td>...</td>\n",
       "      <td>...</td>\n",
       "      <td>...</td>\n",
       "      <td>...</td>\n",
       "      <td>...</td>\n",
       "      <td>...</td>\n",
       "      <td>...</td>\n",
       "      <td>...</td>\n",
       "      <td>...</td>\n",
       "      <td>...</td>\n",
       "      <td>...</td>\n",
       "      <td>...</td>\n",
       "      <td>...</td>\n",
       "    </tr>\n",
       "    <tr>\n",
       "      <th>6641</th>\n",
       "      <td>20050</td>\n",
       "      <td>https://www.zomato.com/bangalore/healthy-bakes...</td>\n",
       "      <td>734, Marenahalli Rd, 8th Block, Shakambari Nag...</td>\n",
       "      <td>Healthy Bakes 'n' Brew</td>\n",
       "      <td>Yes</td>\n",
       "      <td>No</td>\n",
       "      <td>3.706147</td>\n",
       "      <td>0</td>\n",
       "      <td>+91 9845285003</td>\n",
       "      <td>Jayanagar</td>\n",
       "      <td>others</td>\n",
       "      <td>Bakery</td>\n",
       "      <td>150.0</td>\n",
       "      <td>[]</td>\n",
       "      <td>['Orange Zest Cupcake', 'Chocolate Cupcake', '...</td>\n",
       "      <td>Delivery</td>\n",
       "    </tr>\n",
       "    <tr>\n",
       "      <th>3894</th>\n",
       "      <td>20035</td>\n",
       "      <td>https://www.zomato.com/bangalore/only-sharjah-...</td>\n",
       "      <td>15/1, 1st Stage, 8th Cross Road, BTM, Bangalore</td>\n",
       "      <td>Only Sharjah</td>\n",
       "      <td>Yes</td>\n",
       "      <td>No</td>\n",
       "      <td>3.706147</td>\n",
       "      <td>0</td>\n",
       "      <td>+91 8553137892</td>\n",
       "      <td>BTM</td>\n",
       "      <td>others</td>\n",
       "      <td>Beverages</td>\n",
       "      <td>200.0</td>\n",
       "      <td>[('Rated 5.0', 'RATED\\n  Very nice place and v...</td>\n",
       "      <td>['Black Dates and Nuts Shake', 'Chocolate with...</td>\n",
       "      <td>Delivery</td>\n",
       "    </tr>\n",
       "    <tr>\n",
       "      <th>3892</th>\n",
       "      <td>16145</td>\n",
       "      <td>https://www.zomato.com/bangalore/wandercrust-h...</td>\n",
       "      <td>526/A, Ganesh Complex, Ground floor, 18th Main...</td>\n",
       "      <td>WanderCrust</td>\n",
       "      <td>No</td>\n",
       "      <td>No</td>\n",
       "      <td>3.706147</td>\n",
       "      <td>0</td>\n",
       "      <td>+91 9980841711</td>\n",
       "      <td>HSR</td>\n",
       "      <td>Takeaway, Delivery</td>\n",
       "      <td>Pizza</td>\n",
       "      <td>500.0</td>\n",
       "      <td>[]</td>\n",
       "      <td>[]</td>\n",
       "      <td>Delivery</td>\n",
       "    </tr>\n",
       "    <tr>\n",
       "      <th>3891</th>\n",
       "      <td>47884</td>\n",
       "      <td>https://www.zomato.com/bangalore/sri-venkatesh...</td>\n",
       "      <td>8, Ambika Building, 7th Cross, H Siddiah Road,...</td>\n",
       "      <td>Sri Venkatesha Iyengar's Bakery</td>\n",
       "      <td>No</td>\n",
       "      <td>No</td>\n",
       "      <td>3.706147</td>\n",
       "      <td>0</td>\n",
       "      <td>+91 8022222771</td>\n",
       "      <td>Wilson Garden</td>\n",
       "      <td>Takeaway, Delivery</td>\n",
       "      <td>Bakery</td>\n",
       "      <td>500.0</td>\n",
       "      <td>[]</td>\n",
       "      <td>[]</td>\n",
       "      <td>Delivery</td>\n",
       "    </tr>\n",
       "    <tr>\n",
       "      <th>5454</th>\n",
       "      <td>27109</td>\n",
       "      <td>https://www.zomato.com/bangalore/the-chefs-cak...</td>\n",
       "      <td>2, Opposite ICICI Bank ATM Satyappa Buildings,...</td>\n",
       "      <td>The Chef's Cake &amp; Bakes</td>\n",
       "      <td>Yes</td>\n",
       "      <td>No</td>\n",
       "      <td>3.706147</td>\n",
       "      <td>0</td>\n",
       "      <td>+91 8884474000\\r\\n+91 9901035778</td>\n",
       "      <td>Ejipura</td>\n",
       "      <td>Delivery</td>\n",
       "      <td>Bakery</td>\n",
       "      <td>450.0</td>\n",
       "      <td>[('Rated 3.0', \"RATED\\n  I ordered a cake to b...</td>\n",
       "      <td>[]</td>\n",
       "      <td>Delivery</td>\n",
       "    </tr>\n",
       "  </tbody>\n",
       "</table>\n",
       "<p>8839 rows × 16 columns</p>\n",
       "</div>"
      ],
      "text/plain": [
       "         ID                                                url  \\\n",
       "2703  19268  https://www.zomato.com/bangalore/toit-indirana...   \n",
       "4032  27806  https://www.zomato.com/bangalore/truffles-kora...   \n",
       "6685  26549  https://www.zomato.com/bangalore/truffles-kora...   \n",
       "2312   9807  https://www.zomato.com/bangalore/truffles-kora...   \n",
       "7749  26488  https://www.zomato.com/bangalore/the-black-pea...   \n",
       "...     ...                                                ...   \n",
       "6641  20050  https://www.zomato.com/bangalore/healthy-bakes...   \n",
       "3894  20035  https://www.zomato.com/bangalore/only-sharjah-...   \n",
       "3892  16145  https://www.zomato.com/bangalore/wandercrust-h...   \n",
       "3891  47884  https://www.zomato.com/bangalore/sri-venkatesh...   \n",
       "5454  27109  https://www.zomato.com/bangalore/the-chefs-cak...   \n",
       "\n",
       "                                                address  \\\n",
       "2703  298, Namma Metro Pillar 62, 100 Feet Road, Ind...   \n",
       "4032  28, 4th 'B' Cross, Koramangala 5th Block, Bang...   \n",
       "6685  28, 4th 'B' Cross, Koramangala 5th Block, Bang...   \n",
       "2312  28, 4th 'B' Cross, Koramangala 5th Block, Bang...   \n",
       "7749  105, 1st A Cross Road, Jyothi Nivas College Ro...   \n",
       "...                                                 ...   \n",
       "6641  734, Marenahalli Rd, 8th Block, Shakambari Nag...   \n",
       "3894    15/1, 1st Stage, 8th Cross Road, BTM, Bangalore   \n",
       "3892  526/A, Ganesh Complex, Ground floor, 18th Main...   \n",
       "3891  8, Ambika Building, 7th Cross, H Siddiah Road,...   \n",
       "5454  2, Opposite ICICI Bank ATM Satyappa Buildings,...   \n",
       "\n",
       "                                 name online_order book_table      rate  \\\n",
       "2703                             Toit           No         No  4.700000   \n",
       "4032                         Truffles           No         No  4.700000   \n",
       "6685                         Truffles           No         No  4.700000   \n",
       "2312                         Truffles           No         No  4.700000   \n",
       "7749                  The Black Pearl           No        Yes  4.700000   \n",
       "...                               ...          ...        ...       ...   \n",
       "6641           Healthy Bakes 'n' Brew          Yes         No  3.706147   \n",
       "3894                     Only Sharjah          Yes         No  3.706147   \n",
       "3892                      WanderCrust           No         No  3.706147   \n",
       "3891  Sri Venkatesha Iyengar's Bakery           No         No  3.706147   \n",
       "5454          The Chef's Cake & Bakes          Yes         No  3.706147   \n",
       "\n",
       "      votes                             phone               location  \\\n",
       "2703  14956                    +91 9019713388            Indiranagar   \n",
       "4032  14694                      080 49652818  Koramangala 5th Block   \n",
       "6685  14690                      080 49652818  Koramangala 5th Block   \n",
       "2312  14654      080 41466565\\r\\n080 41536565  Koramangala 5th Block   \n",
       "7749  10471                      080 49652452  Koramangala 5th Block   \n",
       "...     ...                               ...                    ...   \n",
       "6641      0                    +91 9845285003              Jayanagar   \n",
       "3894      0                    +91 8553137892                    BTM   \n",
       "3892      0                    +91 9980841711                    HSR   \n",
       "3891      0                    +91 8022222771          Wilson Garden   \n",
       "5454      0  +91 8884474000\\r\\n+91 9901035778                Ejipura   \n",
       "\n",
       "               rest_type                       cuisines  CostFor2  \\\n",
       "2703              others                         others    1500.0   \n",
       "4032              others  Cafe, American, Burger, Steak     900.0   \n",
       "6685              others  Cafe, American, Burger, Steak     900.0   \n",
       "2312              others  Cafe, American, Burger, Steak     900.0   \n",
       "7749              others                         others    1400.0   \n",
       "...                  ...                            ...       ...   \n",
       "6641              others                         Bakery     150.0   \n",
       "3894              others                      Beverages     200.0   \n",
       "3892  Takeaway, Delivery                          Pizza     500.0   \n",
       "3891  Takeaway, Delivery                         Bakery     500.0   \n",
       "5454            Delivery                         Bakery     450.0   \n",
       "\n",
       "                                           reviews_list  \\\n",
       "2703  [('Rated 4.0', \"RATED\\n  The crowd keeps flowi...   \n",
       "4032  [('Rated 4.0', 'RATED\\n  Package: 4/5\\nFood: 4...   \n",
       "6685  [('Rated 4.0', 'RATED\\n  Package: 4/5\\nFood: 4...   \n",
       "2312  [('Rated 5.0', 'RATED\\n  Menu is extensive and...   \n",
       "7749  [('Rated 4.0', \"RATED\\n  Everything was fine h...   \n",
       "...                                                 ...   \n",
       "6641                                                 []   \n",
       "3894  [('Rated 5.0', 'RATED\\n  Very nice place and v...   \n",
       "3892                                                 []   \n",
       "3891                                                 []   \n",
       "5454  [('Rated 3.0', \"RATED\\n  I ordered a cake to b...   \n",
       "\n",
       "                                              menu_item                Type  \n",
       "2703                                                 []  Drinks & nightlife  \n",
       "4032                                                 []            Delivery  \n",
       "6685                                                 []               Cafes  \n",
       "2312                                                 []            Delivery  \n",
       "7749                                                 []              Buffet  \n",
       "...                                                 ...                 ...  \n",
       "6641  ['Orange Zest Cupcake', 'Chocolate Cupcake', '...            Delivery  \n",
       "3894  ['Black Dates and Nuts Shake', 'Chocolate with...            Delivery  \n",
       "3892                                                 []            Delivery  \n",
       "3891                                                 []            Delivery  \n",
       "5454                                                 []            Delivery  \n",
       "\n",
       "[8839 rows x 16 columns]"
      ]
     },
     "execution_count": 47,
     "metadata": {},
     "output_type": "execute_result"
    }
   ],
   "source": [
    "df.sort_values('votes',ascending=False)"
   ]
  },
  {
   "cell_type": "code",
   "execution_count": 173,
   "id": "9772a771",
   "metadata": {},
   "outputs": [
    {
     "data": {
      "image/png": "[encoded data removed]",
      "text/plain": [
       "<Figure size 360x360 with 1 Axes>"
      ]
     },
     "metadata": {},
     "output_type": "display_data"
    }
   ],
   "source": [
    "dp = sns.displot(rug=True,\n",
    "            x=df[\"votes\"],\n",
    "            y=df[\"CostFor2\"],\n",
    "            color=\"teal\",)\n",
    "dp.set_axis_labels(\"Ratings - unrated are given the value 0\", \"Approximate cost for two\")\n",
    "plt.show()"
   ]
  },
  {
   "cell_type": "code",
   "execution_count": null,
   "id": "98c39698",
   "metadata": {},
   "outputs": [],
   "source": []
  },
  {
   "cell_type": "markdown",
   "id": "09e9c174",
   "metadata": {},
   "source": [
    "# 9.\tWhich are the most common restaurant type in Banglore?"
   ]
  },
  {
   "cell_type": "code",
   "execution_count": 174,
   "id": "1f57903f",
   "metadata": {},
   "outputs": [
    {
     "data": {
      "text/plain": [
       "Delivery              4503\n",
       "Dine-out              2968\n",
       "Desserts               622\n",
       "Cafes                  288\n",
       "Drinks & nightlife     189\n",
       "Buffet                 148\n",
       "Pubs and bars          121\n",
       "Name: Type, dtype: int64"
      ]
     },
     "execution_count": 174,
     "metadata": {},
     "output_type": "execute_result"
    }
   ],
   "source": [
    "df.Type.value_counts()"
   ]
  },
  {
   "cell_type": "code",
   "execution_count": 175,
   "id": "7745dbbc",
   "metadata": {},
   "outputs": [
    {
     "data": {
      "image/png": "[encoded data removed]",
      "text/plain": [
       "<Figure size 720x432 with 1 Axes>"
      ]
     },
     "metadata": {},
     "output_type": "display_data"
    }
   ],
   "source": [
    "df4=pd.DataFrame(df.Type.value_counts())\n",
    "df4\n",
    "plt.figure(figsize = (10,6))\n",
    "sns.barplot(df4['Type'],df4.index)\n",
    "sns.set_style('darkgrid')\n",
    "plt.xticks(rotation = 90)\n",
    "plt.title('Most common restaurant type in Banglore', weight='bold')\n",
    "warnings.filterwarnings(\"ignore\")\n",
    "plt.show()"
   ]
  },
  {
   "cell_type": "markdown",
   "id": "266025dc",
   "metadata": {},
   "source": [
    "### Delivery is the most common restaurant Type with value : 4503"
   ]
  },
  {
   "cell_type": "code",
   "execution_count": null,
   "id": "420d1560",
   "metadata": {},
   "outputs": [],
   "source": []
  },
  {
   "cell_type": "markdown",
   "id": "e698cbfd",
   "metadata": {},
   "source": [
    "# 10.\tIs there any difference b/w the votes of restaurants accepting and not accepting online orders?"
   ]
  },
  {
   "cell_type": "code",
   "execution_count": 176,
   "id": "8b5cf69c",
   "metadata": {},
   "outputs": [
    {
     "data": {
      "image/png": "[encoded data removed]",
      "text/plain": [
       "<Figure size 648x648 with 1 Axes>"
      ]
     },
     "metadata": {},
     "output_type": "display_data"
    }
   ],
   "source": [
    "f,ax=plt.subplots(figsize=(9,9))\n",
    "g=sns.boxplot(y='votes',x='online_order',data=df)\n",
    "g.set_xticklabels(g.get_xticklabels(),rotation=90)\n",
    "plt.title('difference b/w the votes of restaurants accepting and not accepting online orders', weight = 'bold')\n",
    "plt.show()"
   ]
  },
  {
   "cell_type": "code",
   "execution_count": null,
   "id": "3059a8fe",
   "metadata": {},
   "outputs": [],
   "source": []
  },
  {
   "cell_type": "markdown",
   "id": "fa4e7aeb",
   "metadata": {},
   "source": [
    "# 11. Which are the most common restaurant type in Bangalore?"
   ]
  },
  {
   "cell_type": "code",
   "execution_count": 177,
   "id": "bcd5cb62",
   "metadata": {},
   "outputs": [
    {
     "data": {
      "text/plain": [
       "Delivery              4503\n",
       "Dine-out              2968\n",
       "Desserts               622\n",
       "Cafes                  288\n",
       "Drinks & nightlife     189\n",
       "Buffet                 148\n",
       "Pubs and bars          121\n",
       "Name: Type, dtype: int64"
      ]
     },
     "execution_count": 177,
     "metadata": {},
     "output_type": "execute_result"
    }
   ],
   "source": [
    "df.Type.value_counts()"
   ]
  },
  {
   "cell_type": "code",
   "execution_count": 178,
   "id": "3a1e0b3e",
   "metadata": {},
   "outputs": [
    {
     "data": {
      "image/png": "[encoded data removed]",
      "text/plain": [
       "<Figure size 720x432 with 1 Axes>"
      ]
     },
     "metadata": {},
     "output_type": "display_data"
    }
   ],
   "source": [
    "df4=pd.DataFrame(df.Type.value_counts())\n",
    "df4\n",
    "plt.figure(figsize = (10,6))\n",
    "sns.barplot(df4['Type'],df4.index)\n",
    "sns.set_style('darkgrid')\n",
    "plt.xticks(rotation = 90)\n",
    "plt.title('Most common restaurant type in Banglore', weight='bold')\n",
    "warnings.filterwarnings(\"ignore\")\n",
    "plt.show()"
   ]
  },
  {
   "cell_type": "code",
   "execution_count": null,
   "id": "19d09946",
   "metadata": {},
   "outputs": [],
   "source": []
  },
  {
   "cell_type": "markdown",
   "id": "41e33870",
   "metadata": {},
   "source": [
    "## 12.\tFind the Best budget Restaurants in any location."
   ]
  },
  {
   "cell_type": "code",
   "execution_count": 179,
   "id": "5e9903e0",
   "metadata": {},
   "outputs": [
    {
     "name": "stdout",
     "output_type": "stream",
     "text": [
      "Please enter the location in which you are looking for budget restaurants: HSR\n",
      "here are the top 3 budget location\n"
     ]
    },
    {
     "data": {
      "text/html": [
       "<div>\n",
       "<style scoped>\n",
       "    .dataframe tbody tr th:only-of-type {\n",
       "        vertical-align: middle;\n",
       "    }\n",
       "\n",
       "    .dataframe tbody tr th {\n",
       "        vertical-align: top;\n",
       "    }\n",
       "\n",
       "    .dataframe thead th {\n",
       "        text-align: right;\n",
       "    }\n",
       "</style>\n",
       "<table border=\"1\" class=\"dataframe\">\n",
       "  <thead>\n",
       "    <tr style=\"text-align: right;\">\n",
       "      <th></th>\n",
       "      <th>ID</th>\n",
       "      <th>url</th>\n",
       "      <th>address</th>\n",
       "      <th>name</th>\n",
       "      <th>online_order</th>\n",
       "      <th>book_table</th>\n",
       "      <th>rate</th>\n",
       "      <th>votes</th>\n",
       "      <th>phone</th>\n",
       "      <th>location</th>\n",
       "      <th>rest_type</th>\n",
       "      <th>cuisines</th>\n",
       "      <th>CostFor2</th>\n",
       "      <th>reviews_list</th>\n",
       "      <th>menu_item</th>\n",
       "      <th>Type</th>\n",
       "    </tr>\n",
       "  </thead>\n",
       "  <tbody>\n",
       "    <tr>\n",
       "      <th>1263</th>\n",
       "      <td>16045</td>\n",
       "      <td>https://www.zomato.com/bangalore/paanwadi-hsr-...</td>\n",
       "      <td>764, 22nd Cross, HSR Club Road, 3rd Sector, HS...</td>\n",
       "      <td>Paanwadi</td>\n",
       "      <td>No</td>\n",
       "      <td>No</td>\n",
       "      <td>3.3</td>\n",
       "      <td>6</td>\n",
       "      <td>+91 9899443477</td>\n",
       "      <td>HSR</td>\n",
       "      <td>Dessert Parlor</td>\n",
       "      <td>others</td>\n",
       "      <td>100.0</td>\n",
       "      <td>[('Rated 5.0', 'RATED\\n  Good quality of hooka...</td>\n",
       "      <td>[]</td>\n",
       "      <td>Delivery</td>\n",
       "    </tr>\n",
       "    <tr>\n",
       "      <th>6364</th>\n",
       "      <td>4397</td>\n",
       "      <td>https://www.zomato.com/bangalore/mumbai-kulfi-...</td>\n",
       "      <td>1, 1634, 22nd Cross, 26th Main, Sector 2, HSR,...</td>\n",
       "      <td>Mumbai Kulfi</td>\n",
       "      <td>Yes</td>\n",
       "      <td>No</td>\n",
       "      <td>4.0</td>\n",
       "      <td>92</td>\n",
       "      <td>+91 9535133012</td>\n",
       "      <td>HSR</td>\n",
       "      <td>Dessert Parlor</td>\n",
       "      <td>Ice Cream</td>\n",
       "      <td>100.0</td>\n",
       "      <td>[('Rated 4.0', 'RATED\\n  went here on sunday e...</td>\n",
       "      <td>[]</td>\n",
       "      <td>Delivery</td>\n",
       "    </tr>\n",
       "    <tr>\n",
       "      <th>3865</th>\n",
       "      <td>16686</td>\n",
       "      <td>https://www.zomato.com/bangalore/bajji-house-h...</td>\n",
       "      <td>Krimson Square, 31/9, Aayee Matha Temple Rd, V...</td>\n",
       "      <td>Bajji House</td>\n",
       "      <td>Yes</td>\n",
       "      <td>No</td>\n",
       "      <td>3.5</td>\n",
       "      <td>7</td>\n",
       "      <td>+91 9538270610</td>\n",
       "      <td>HSR</td>\n",
       "      <td>Quick Bites</td>\n",
       "      <td>Street Food</td>\n",
       "      <td>100.0</td>\n",
       "      <td>[('Rated 4.0', 'RATED\\n  Outlet is near Roopen...</td>\n",
       "      <td>[]</td>\n",
       "      <td>Delivery</td>\n",
       "    </tr>\n",
       "  </tbody>\n",
       "</table>\n",
       "</div>"
      ],
      "text/plain": [
       "         ID                                                url  \\\n",
       "1263  16045  https://www.zomato.com/bangalore/paanwadi-hsr-...   \n",
       "6364   4397  https://www.zomato.com/bangalore/mumbai-kulfi-...   \n",
       "3865  16686  https://www.zomato.com/bangalore/bajji-house-h...   \n",
       "\n",
       "                                                address          name  \\\n",
       "1263  764, 22nd Cross, HSR Club Road, 3rd Sector, HS...      Paanwadi   \n",
       "6364  1, 1634, 22nd Cross, 26th Main, Sector 2, HSR,...  Mumbai Kulfi   \n",
       "3865  Krimson Square, 31/9, Aayee Matha Temple Rd, V...   Bajji House   \n",
       "\n",
       "     online_order book_table  rate  votes           phone location  \\\n",
       "1263           No         No   3.3      6  +91 9899443477      HSR   \n",
       "6364          Yes         No   4.0     92  +91 9535133012      HSR   \n",
       "3865          Yes         No   3.5      7  +91 9538270610      HSR   \n",
       "\n",
       "           rest_type     cuisines  CostFor2  \\\n",
       "1263  Dessert Parlor       others     100.0   \n",
       "6364  Dessert Parlor    Ice Cream     100.0   \n",
       "3865     Quick Bites  Street Food     100.0   \n",
       "\n",
       "                                           reviews_list menu_item      Type  \n",
       "1263  [('Rated 5.0', 'RATED\\n  Good quality of hooka...        []  Delivery  \n",
       "6364  [('Rated 4.0', 'RATED\\n  went here on sunday e...        []  Delivery  \n",
       "3865  [('Rated 4.0', 'RATED\\n  Outlet is near Roopen...        []  Delivery  "
      ]
     },
     "execution_count": 179,
     "metadata": {},
     "output_type": "execute_result"
    }
   ],
   "source": [
    "j=input(\"Please enter the location in which you are looking for budget restaurants: \")\n",
    "\n",
    "df1=df[df.location==j]\n",
    "df1.head()\n",
    "print(\"here are the top 3 budget location\")\n",
    "df1.sort_values(by='CostFor2').head(3)\n"
   ]
  },
  {
   "cell_type": "code",
   "execution_count": null,
   "id": "c6034aeb",
   "metadata": {},
   "outputs": [],
   "source": []
  },
  {
   "cell_type": "markdown",
   "id": "5de5d0e9",
   "metadata": {},
   "source": [
    "# 13.\tTop quick bites restaurant chains in Banglore."
   ]
  },
  {
   "cell_type": "code",
   "execution_count": 180,
   "id": "ffa05ecc",
   "metadata": {},
   "outputs": [
    {
     "name": "stdout",
     "output_type": "stream",
     "text": [
      "Top quick bites restaurant chains in Banglore.\n"
     ]
    },
    {
     "data": {
      "text/plain": [
       "5605             CTR\n",
       "8775    Veena Stores\n",
       "8290       Taco Bell\n",
       "1749       Taco Bell\n",
       "182           Maiyas\n",
       "Name: name, dtype: object"
      ]
     },
     "execution_count": 180,
     "metadata": {},
     "output_type": "execute_result"
    }
   ],
   "source": [
    "print(\"Top quick bites restaurant chains in Banglore.\")\n",
    "df[df.rest_type==\"Quick Bites\"].sort_values(by=[\"votes\",'rate'],ascending=[False,False]).head(5).name"
   ]
  },
  {
   "cell_type": "code",
   "execution_count": null,
   "id": "c5216f9d",
   "metadata": {},
   "outputs": [],
   "source": []
  },
  {
   "cell_type": "markdown",
   "id": "950261b4",
   "metadata": {},
   "source": [
    "# 14.\tWhich are the most popular casual dining restaurant chains, Make use of any plot related to this question?"
   ]
  },
  {
   "cell_type": "code",
   "execution_count": 181,
   "id": "8bdbe098",
   "metadata": {},
   "outputs": [
    {
     "name": "stdout",
     "output_type": "stream",
     "text": [
      "most popular casual dining restaurant chains\n"
     ]
    },
    {
     "data": {
      "text/plain": [
       "2679                     Flechazo\n",
       "6436    AB's - Absolute Barbecues\n",
       "2693                 Punjab Grill\n",
       "5184    AB's - Absolute Barbecues\n",
       "6171                     Flechazo\n",
       "Name: name, dtype: object"
      ]
     },
     "execution_count": 181,
     "metadata": {},
     "output_type": "execute_result"
    }
   ],
   "source": [
    "print(\"most popular casual dining restaurant chains\")\n",
    "most_popular=df[df.rest_type==\"Casual Dining\"].sort_values(by=['rate'],ascending=[False])\n",
    "most_popular=most_popular.head().name\n",
    "most_popular\n"
   ]
  },
  {
   "cell_type": "code",
   "execution_count": 182,
   "id": "eae5c8f1",
   "metadata": {},
   "outputs": [
    {
     "data": {
      "image/png": "[encoded data removed]",
      "text/plain": [
       "<Figure size 1440x360 with 1 Axes>"
      ]
     },
     "metadata": {},
     "output_type": "display_data"
    }
   ],
   "source": [
    "sns.countplot(most_popular,palette = 'hls').set(title='Most Popular Casual Dining Restaurants')\n",
    "plt.show()\n"
   ]
  },
  {
   "cell_type": "code",
   "execution_count": null,
   "id": "9105edfa",
   "metadata": {},
   "outputs": [],
   "source": []
  },
  {
   "cell_type": "markdown",
   "id": "91c49d1d",
   "metadata": {},
   "source": [
    "# 15.\tWhich are the most popular cuisines of Bangalore using a related plot?"
   ]
  },
  {
   "cell_type": "markdown",
   "id": "c496f1dd",
   "metadata": {},
   "source": [
    "#### Popularity based on cuisines ordered."
   ]
  },
  {
   "cell_type": "code",
   "execution_count": 183,
   "id": "9594b7d4",
   "metadata": {},
   "outputs": [
    {
     "data": {
      "image/png": "[encoded data removed]",
      "text/plain": [
       "<Figure size 1440x360 with 1 Axes>"
      ]
     },
     "metadata": {},
     "output_type": "display_data"
    }
   ],
   "source": [
    "df.cuisines.value_counts().head(6).drop('others').plot(kind='bar')\n",
    "plt.xticks(rotation = 0)\n",
    "plt.show()"
   ]
  },
  {
   "cell_type": "code",
   "execution_count": null,
   "id": "24d64788",
   "metadata": {},
   "outputs": [],
   "source": []
  },
  {
   "cell_type": "markdown",
   "id": "084f7b9f",
   "metadata": {},
   "source": [
    "#### Popularity based on votes"
   ]
  },
  {
   "cell_type": "code",
   "execution_count": 184,
   "id": "ab5de042",
   "metadata": {},
   "outputs": [
    {
     "data": {
      "image/png": "[encoded data removed]",
      "text/plain": [
       "<Figure size 1080x576 with 1 Axes>"
      ]
     },
     "metadata": {},
     "output_type": "display_data"
    }
   ],
   "source": [
    "df6 = df[['cuisines', 'votes']]\n",
    "df6.drop_duplicates()\n",
    "df7 = df6.groupby(['cuisines'])['votes'].sum()\n",
    "df7 = df7.to_frame()\n",
    "df7 = df7.sort_values('votes', ascending=False)\n",
    "df7.head()\n",
    "df7 = df7.iloc[1:, :]\n",
    "top=df7.head(20)\n",
    "plt.figure(figsize = (15,8))\n",
    "sns.barplot(top.index , top['votes'])\n",
    "plt.xticks(rotation = 90)\n",
    "plt.show()"
   ]
  },
  {
   "cell_type": "code",
   "execution_count": null,
   "id": "1b8ad98a",
   "metadata": {},
   "outputs": [],
   "source": []
  },
  {
   "cell_type": "code",
   "execution_count": null,
   "id": "8d6f18ac",
   "metadata": {},
   "outputs": [],
   "source": []
  }
 ],
 "metadata": {
  "kernelspec": {
   "display_name": "Python 3 (ipykernel)",
   "language": "python",
   "name": "python3"
  },
  "language_info": {
   "codemirror_mode": {
    "name": "ipython",
    "version": 3
   },
   "file_extension": ".py",
   "mimetype": "text/x-python",
   "name": "python",
   "nbconvert_exporter": "python",
   "pygments_lexer": "ipython3",
   "version": "3.9.12"
  }
 },
 "nbformat": 4,
 "nbformat_minor": 5
}
